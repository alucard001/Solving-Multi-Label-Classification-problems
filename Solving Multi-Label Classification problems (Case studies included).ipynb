{
 "cells": [
  {
   "cell_type": "markdown",
   "metadata": {},
   "source": [
    "# Solving Multi-Label Classification problems (Case studies included)\n",
    "\n",
    "The link for this content is in : https://www.analyticsvidhya.com/blog/2017/08/introduction-to-multi-label-classification/\n",
    "\n",
    "This is an implementation of this article.  Starting from below we are going to translate the content in the above blog post to Chinese.  Thank you."
   ]
  },
  {
   "cell_type": "markdown",
   "metadata": {},
   "source": [
    "### Read it first:\n",
    "\n",
    "- Most of the technical terms are keep in English instead of directly translated it to Chinese.  It is intended to do so.\n",
    "- The reason is that using English in these terms is way better in delivering the meaning of that terms.  If it is translated to Chinese, the meaning will be lost.\n",
    "- Therefore, I use bracket () to mark the meaning in Chinese.\n",
    "- 你會發現在以下文章中, \"類別\" 和 \"類型\"會不時出現而可能引起混亂.  這是英譯中時常出現的問題.  我已盡力寫清楚.  如有問題煩請不吝告知.  謝謝."
   ]
  },
  {
   "cell_type": "markdown",
   "metadata": {},
   "source": [
    "## 簡介\n",
    "\n",
    "因為某些特殊的原因, Regression(回歸)及Classification(分類)問題往往引起很多對機器學習的人的注意.  其實, 機器學習本身亦有很多不同的泛疇.\n",
    "\n",
    "另一方面, 我比較喜歡探索不同類型的問題, 所以在此分享我的想法.\n",
    "\n",
    "之前, [我亦分享了關於Genetic algorithms(遺傳算法)的學習心得](https://www.analyticsvidhya.com/blog/2017/07/introduction-to-genetic-algorithm/)[英文]. 而我將在此處討論一個常被輕忽的問題, 這稱為 Multi-label classification (多類型分類)."
   ]
  },
  {
   "cell_type": "markdown",
   "metadata": {},
   "source": [
    "在這篇文章中, 我會用一個比較容易理解的方法去闡述什麼是 Multi-label classification, 以及顯示如何解決此問題.  希望各位可以對此有更深的認識."
   ]
  },
  {
   "cell_type": "markdown",
   "metadata": {},
   "source": [
    "### 1. 什麼是Multi-label Classification?\n",
    "\n",
    "先看看以下圖片:\n",
    "\n",
    "![What is multi-label classification](beautiful_scenery_05_hd_picture_166257.jpg)\n",
    "\n",
    "如果我問你, 這幅圖片裏面有屋子嗎?  你可能會回答: **有** 或者 **沒有**.\n",
    "\n",
    "那, 如果我再問: 這幅圖片裏面有沒有以下的物件?\n",
    "\n",
    "|屋子|樹木|沙灘|雲|山|動物|\n",
    "|-----|-----|-----|-----|-----|-----|\n",
    "|有|有|沒有|有|沒有|沒有|\n",
    "\n",
    "所以, 當我們有**多於一個**target variables(目標變數 / 或稱目標), 我們就稱它為 Multi-label classification 問題. (譯: 在此label可理解成target variable).  那這一個例子與上面的有什麼不同? 明顯地, 第二個問題包含了不同label, 所以那是Multi-label classification.\n",
    "\n",
    "但在更深入之前, 我想先澄清一件可能會讓各位覺得混亂的事情..."
   ]
  },
  {
   "cell_type": "markdown",
   "metadata": {},
   "source": [
    "## Multi-Label (多類型) vs Multi-Class (多類別)\n",
    "\n",
    "先設想以下的例子:\n",
    "\n",
    "![Multi-label vs Multi-class](Screen-Shot-2017-08-20-at-12.20.24-AM.png)\n",
    "\n",
    "任何的電影, (美國)中央電影委員會會基於電影的內容發出不同的認證.\n",
    "\n",
    "比如以上的照片, 有UA字樣則代表12歲以下兒童需由父母指導收看.  當然還有其他的認證類別 (比如A - 只限成人, U - 可公開放映), 但我們知道每套電影只屬於以上3種類別之一.\n",
    "\n",
    "簡單來說, 雖然有多種類別, 但每份資料(這裏是電影)只會隸屬於1個類別.  所以我們把這類問題稱為: Multi-Classs classification (多類別分類) 問題\n",
    "\n",
    "如果你再看一次以上照片, 你會發現它被歸類為 \"喜劇\" 和 \"浪漫風格\".  但今次則是每1套電影可以隸屬於1個或多個類型.  正因如此, 所以我們稱這類問題為: Multi-label classification (多類型分類)問題.\n",
    "\n",
    "好!  透過以上解釋你該明白兩者之間的關係, 接下來是看看如何著手處理."
   ]
  },
  {
   "cell_type": "markdown",
   "metadata": {},
   "source": [
    "## 載入與產生Multi-Label 資料集 (Dataset)\n",
    "\n",
    "[Scikit-Learn](http://scikit-learn.org/) 提供了一個稱為[scikit-multilearn](http://scikit.ml/api/datasets.html)的函式庫, 用以處理Multi-Label Classification的問題.\n",
    "\n",
    "為了更容易理解, 我們先準備好一些資料集(dataset).  你可以在這個由[MULAN提供的repository](http://mulan.sourceforge.net/datasets-mlc.html)找到真實世界所用的資料 (譯: 即非為教學而準備的資料集).  此資料集是以ARFF格式處理的.\n",
    "\n",
    "現在請使用以下的Python程式載入資料.  我下載的是酵母資料集(譯: 原文是: yeast data set)."
   ]
  },
  {
   "cell_type": "code",
   "execution_count": 1,
   "metadata": {},
   "outputs": [
    {
     "name": "stdout",
     "output_type": "stream",
     "text": [
      "wget: /home/vagrant/anaconda3/envs/tensorflow/lib/libcrypto.so.1.0.0: no version information available (required by wget)\n",
      "wget: /home/vagrant/anaconda3/envs/tensorflow/lib/libssl.so.1.0.0: no version information available (required by wget)\n",
      "--2017-10-03 06:30:37--  http://sourceforge.net/projects/mulan/files/datasets/yeast.rar\n",
      "Resolving sourceforge.net (sourceforge.net)... 216.34.181.60\n",
      "Connecting to sourceforge.net (sourceforge.net)|216.34.181.60|:80... connected.\n",
      "HTTP request sent, awaiting response... 301 Moved Permanently\n",
      "Location: https://sourceforge.net/projects/mulan/files/datasets/yeast.rar [following]\n",
      "--2017-10-03 06:30:38--  https://sourceforge.net/projects/mulan/files/datasets/yeast.rar\n",
      "Connecting to sourceforge.net (sourceforge.net)|216.34.181.60|:443... connected.\n",
      "HTTP request sent, awaiting response... 301 Moved Permanently\n",
      "Location: https://sourceforge.net/projects/mulan/files/datasets/yeast.rar/ [following]\n",
      "--2017-10-03 06:30:39--  https://sourceforge.net/projects/mulan/files/datasets/yeast.rar/\n",
      "Connecting to sourceforge.net (sourceforge.net)|216.34.181.60|:443... connected.\n",
      "HTTP request sent, awaiting response... 302 Found\n",
      "Location: https://sourceforge.net/projects/mulan/files/datasets/yeast.rar/download [following]\n",
      "--2017-10-03 06:30:41--  https://sourceforge.net/projects/mulan/files/datasets/yeast.rar/download\n",
      "Connecting to sourceforge.net (sourceforge.net)|216.34.181.60|:443... connected.\n",
      "HTTP request sent, awaiting response... 302 Found\n",
      "Location: https://downloads.sourceforge.net/project/mulan/datasets/yeast.rar?r=&ts=1507012241&use_mirror=nchc [following]\n",
      "--2017-10-03 06:30:42--  https://downloads.sourceforge.net/project/mulan/datasets/yeast.rar?r=&ts=1507012241&use_mirror=nchc\n",
      "Resolving downloads.sourceforge.net (downloads.sourceforge.net)... 216.34.181.59\n",
      "Connecting to downloads.sourceforge.net (downloads.sourceforge.net)|216.34.181.59|:443... connected.\n",
      "HTTP request sent, awaiting response... 302 Found\n",
      "Location: https://nchc.dl.sourceforge.net/project/mulan/datasets/yeast.rar [following]\n",
      "--2017-10-03 06:30:44--  https://nchc.dl.sourceforge.net/project/mulan/datasets/yeast.rar\n",
      "Resolving nchc.dl.sourceforge.net (nchc.dl.sourceforge.net)... 211.79.60.17, 2001:e10:ffff:1f02::17\n",
      "Connecting to nchc.dl.sourceforge.net (nchc.dl.sourceforge.net)|211.79.60.17|:443... connected.\n",
      "HTTP request sent, awaiting response... 200 OK\n",
      "Length: 1635486 (1.6M) [application/octet-stream]\n",
      "Saving to: ‘yeast.rar’\n",
      "\n",
      "100%[======================================>] 1,635,486   2.19MB/s   in 0.7s   \n",
      "\n",
      "2017-10-03 06:30:45 (2.19 MB/s) - ‘yeast.rar’ saved [1635486/1635486]\n",
      "\n"
     ]
    }
   ],
   "source": [
    "!wget http://sourceforge.net/projects/mulan/files/datasets/yeast.rar"
   ]
  },
  {
   "cell_type": "code",
   "execution_count": 8,
   "metadata": {},
   "outputs": [
    {
     "name": "stdout",
     "output_type": "stream",
     "text": [
      "\n",
      "UNRAR 5.00 beta 8 freeware      Copyright (c) 1993-2013 Alexander Roshal\n",
      "\n",
      "\n",
      "Extracting from yeast.rar\n",
      "\n",
      "Extracting  yeast.arff                                                          1 1 1 1 1 2 2 2 2 2 3 3 3 3 3 4 4 4 4 4 49  OK \n",
      "Extracting  yeast.xml                                                   49  OK \n",
      "Extracting  yeast-test.arff                                             5 5 5 5 5 6 6 6 6 68  OK \n",
      "Extracting  yeast-train.arff                                            7 7 7 7 7 8 8 8 8 8 9 9 9 9 9 99  OK \n",
      "All OK\n"
     ]
    }
   ],
   "source": [
    "!unrar x -y yeast.rar"
   ]
  },
  {
   "cell_type": "code",
   "execution_count": 1,
   "metadata": {
    "collapsed": true
   },
   "outputs": [],
   "source": [
    "import scipy\n",
    "import pandas as pd\n",
    "from scipy.io import arff\n",
    "data, meta = scipy.io.arff.loadarff(\"yeast-train.arff\")\n",
    "df = pd.DataFrame(data)"
   ]
  },
  {
   "cell_type": "markdown",
   "metadata": {},
   "source": [
    "資料看起來像這樣:"
   ]
  },
  {
   "cell_type": "code",
   "execution_count": 2,
   "metadata": {},
   "outputs": [
    {
     "data": {
      "text/html": [
       "<div>\n",
       "<style>\n",
       "    .dataframe thead tr:only-child th {\n",
       "        text-align: right;\n",
       "    }\n",
       "\n",
       "    .dataframe thead th {\n",
       "        text-align: left;\n",
       "    }\n",
       "\n",
       "    .dataframe tbody tr th {\n",
       "        vertical-align: top;\n",
       "    }\n",
       "</style>\n",
       "<table border=\"1\" class=\"dataframe\">\n",
       "  <thead>\n",
       "    <tr style=\"text-align: right;\">\n",
       "      <th></th>\n",
       "      <th>Att1</th>\n",
       "      <th>Att2</th>\n",
       "      <th>Att3</th>\n",
       "      <th>Att4</th>\n",
       "      <th>Att5</th>\n",
       "      <th>Att6</th>\n",
       "      <th>Att7</th>\n",
       "      <th>Att8</th>\n",
       "      <th>Att9</th>\n",
       "      <th>Att10</th>\n",
       "      <th>...</th>\n",
       "      <th>Class5</th>\n",
       "      <th>Class6</th>\n",
       "      <th>Class7</th>\n",
       "      <th>Class8</th>\n",
       "      <th>Class9</th>\n",
       "      <th>Class10</th>\n",
       "      <th>Class11</th>\n",
       "      <th>Class12</th>\n",
       "      <th>Class13</th>\n",
       "      <th>Class14</th>\n",
       "    </tr>\n",
       "  </thead>\n",
       "  <tbody>\n",
       "    <tr>\n",
       "      <th>0</th>\n",
       "      <td>0.093700</td>\n",
       "      <td>0.139771</td>\n",
       "      <td>0.062774</td>\n",
       "      <td>0.007698</td>\n",
       "      <td>0.083873</td>\n",
       "      <td>-0.119156</td>\n",
       "      <td>0.073305</td>\n",
       "      <td>0.005510</td>\n",
       "      <td>0.027523</td>\n",
       "      <td>0.043477</td>\n",
       "      <td>...</td>\n",
       "      <td>b'0'</td>\n",
       "      <td>b'0'</td>\n",
       "      <td>b'0'</td>\n",
       "      <td>b'0'</td>\n",
       "      <td>b'0'</td>\n",
       "      <td>b'0'</td>\n",
       "      <td>b'0'</td>\n",
       "      <td>b'0'</td>\n",
       "      <td>b'0'</td>\n",
       "      <td>b'0'</td>\n",
       "    </tr>\n",
       "    <tr>\n",
       "      <th>1</th>\n",
       "      <td>-0.022711</td>\n",
       "      <td>-0.050504</td>\n",
       "      <td>-0.035691</td>\n",
       "      <td>-0.065434</td>\n",
       "      <td>-0.084316</td>\n",
       "      <td>-0.378560</td>\n",
       "      <td>0.038212</td>\n",
       "      <td>0.085770</td>\n",
       "      <td>0.182613</td>\n",
       "      <td>-0.055544</td>\n",
       "      <td>...</td>\n",
       "      <td>b'0'</td>\n",
       "      <td>b'0'</td>\n",
       "      <td>b'1'</td>\n",
       "      <td>b'1'</td>\n",
       "      <td>b'0'</td>\n",
       "      <td>b'0'</td>\n",
       "      <td>b'0'</td>\n",
       "      <td>b'1'</td>\n",
       "      <td>b'1'</td>\n",
       "      <td>b'0'</td>\n",
       "    </tr>\n",
       "    <tr>\n",
       "      <th>2</th>\n",
       "      <td>-0.090407</td>\n",
       "      <td>0.021198</td>\n",
       "      <td>0.208712</td>\n",
       "      <td>0.102752</td>\n",
       "      <td>0.119315</td>\n",
       "      <td>0.041729</td>\n",
       "      <td>-0.021728</td>\n",
       "      <td>0.019603</td>\n",
       "      <td>-0.063853</td>\n",
       "      <td>-0.053756</td>\n",
       "      <td>...</td>\n",
       "      <td>b'0'</td>\n",
       "      <td>b'0'</td>\n",
       "      <td>b'0'</td>\n",
       "      <td>b'0'</td>\n",
       "      <td>b'0'</td>\n",
       "      <td>b'0'</td>\n",
       "      <td>b'0'</td>\n",
       "      <td>b'1'</td>\n",
       "      <td>b'1'</td>\n",
       "      <td>b'0'</td>\n",
       "    </tr>\n",
       "    <tr>\n",
       "      <th>3</th>\n",
       "      <td>-0.085235</td>\n",
       "      <td>0.009540</td>\n",
       "      <td>-0.013228</td>\n",
       "      <td>0.094063</td>\n",
       "      <td>-0.013592</td>\n",
       "      <td>-0.030719</td>\n",
       "      <td>-0.116062</td>\n",
       "      <td>-0.131674</td>\n",
       "      <td>-0.165448</td>\n",
       "      <td>-0.123053</td>\n",
       "      <td>...</td>\n",
       "      <td>b'0'</td>\n",
       "      <td>b'0'</td>\n",
       "      <td>b'0'</td>\n",
       "      <td>b'0'</td>\n",
       "      <td>b'0'</td>\n",
       "      <td>b'0'</td>\n",
       "      <td>b'0'</td>\n",
       "      <td>b'1'</td>\n",
       "      <td>b'1'</td>\n",
       "      <td>b'1'</td>\n",
       "    </tr>\n",
       "    <tr>\n",
       "      <th>4</th>\n",
       "      <td>-0.088765</td>\n",
       "      <td>-0.026743</td>\n",
       "      <td>0.002075</td>\n",
       "      <td>-0.043819</td>\n",
       "      <td>-0.005465</td>\n",
       "      <td>0.004306</td>\n",
       "      <td>-0.055865</td>\n",
       "      <td>-0.071484</td>\n",
       "      <td>-0.159025</td>\n",
       "      <td>-0.111348</td>\n",
       "      <td>...</td>\n",
       "      <td>b'0'</td>\n",
       "      <td>b'0'</td>\n",
       "      <td>b'0'</td>\n",
       "      <td>b'0'</td>\n",
       "      <td>b'0'</td>\n",
       "      <td>b'0'</td>\n",
       "      <td>b'0'</td>\n",
       "      <td>b'0'</td>\n",
       "      <td>b'0'</td>\n",
       "      <td>b'0'</td>\n",
       "    </tr>\n",
       "  </tbody>\n",
       "</table>\n",
       "<p>5 rows × 117 columns</p>\n",
       "</div>"
      ],
      "text/plain": [
       "       Att1      Att2      Att3      Att4      Att5      Att6      Att7  \\\n",
       "0  0.093700  0.139771  0.062774  0.007698  0.083873 -0.119156  0.073305   \n",
       "1 -0.022711 -0.050504 -0.035691 -0.065434 -0.084316 -0.378560  0.038212   \n",
       "2 -0.090407  0.021198  0.208712  0.102752  0.119315  0.041729 -0.021728   \n",
       "3 -0.085235  0.009540 -0.013228  0.094063 -0.013592 -0.030719 -0.116062   \n",
       "4 -0.088765 -0.026743  0.002075 -0.043819 -0.005465  0.004306 -0.055865   \n",
       "\n",
       "       Att8      Att9     Att10   ...     Class5  Class6  Class7  Class8  \\\n",
       "0  0.005510  0.027523  0.043477   ...       b'0'    b'0'    b'0'    b'0'   \n",
       "1  0.085770  0.182613 -0.055544   ...       b'0'    b'0'    b'1'    b'1'   \n",
       "2  0.019603 -0.063853 -0.053756   ...       b'0'    b'0'    b'0'    b'0'   \n",
       "3 -0.131674 -0.165448 -0.123053   ...       b'0'    b'0'    b'0'    b'0'   \n",
       "4 -0.071484 -0.159025 -0.111348   ...       b'0'    b'0'    b'0'    b'0'   \n",
       "\n",
       "   Class9  Class10  Class11  Class12  Class13  Class14  \n",
       "0    b'0'     b'0'     b'0'     b'0'     b'0'     b'0'  \n",
       "1    b'0'     b'0'     b'0'     b'1'     b'1'     b'0'  \n",
       "2    b'0'     b'0'     b'0'     b'1'     b'1'     b'0'  \n",
       "3    b'0'     b'0'     b'0'     b'1'     b'1'     b'1'  \n",
       "4    b'0'     b'0'     b'0'     b'0'     b'0'     b'0'  \n",
       "\n",
       "[5 rows x 117 columns]"
      ]
     },
     "execution_count": 2,
     "metadata": {},
     "output_type": "execute_result"
    }
   ],
   "source": [
    "df.head()"
   ]
  },
  {
   "cell_type": "markdown",
   "metadata": {},
   "source": [
    "在這裏 **Att** 代表各橫行的attribute(屬性), 或稱independent variables(獨立變數)以及所隸屬的Class(類別)"
   ]
  },
  {
   "cell_type": "code",
   "execution_count": 3,
   "metadata": {
    "collapsed": true
   },
   "outputs": [],
   "source": [
    "from sklearn.datasets import make_multilabel_classification\n",
    "\n",
    "# 這會產生一個隨機的多類型資料集\n",
    "\n",
    "X, y = make_multilabel_classification(sparse = True, n_labels = 20, return_indicator='sparse', allow_unlabeled=False)"
   ]
  },
  {
   "cell_type": "markdown",
   "metadata": {},
   "source": [
    "現在來看看此function的各個變數(parameters):\n",
    "\n",
    "- **sparse**: 如果是True, 會返回一個稀疏矩陣(sparse matrix), 此矩陣是一個大型的, 預設值為 0 的元素.\n",
    "- **n_labels**: 每一橫列的類型的數量\n",
    "- **return_indicator**: 如設定sparse為True則設定Y為稀疏二進制指標(sparse binary indicator)格式.\n",
    "- **allow_unlabeled**: 如果設定成 True, 則有些橫列可不屬於任何類別."
   ]
  },
  {
   "cell_type": "markdown",
   "metadata": {},
   "source": [
    "相信你已經發覺, 我們一直都在使用稀疏矩陣(sparse matrix), 而事實上scikit-multilearn亦建議使用此種格式.  原因是真實世界的資料往往都不是密集(譯: 原文為Dense)的.  意即一行橫列被分配的類別其實不會很多.\n",
    "\n",
    "好了, 我們已經準備好資料, 現在我們看看如何解決Multi-Label的問題."
   ]
  },
  {
   "cell_type": "markdown",
   "metadata": {},
   "source": [
    "## 如何處理Multei-Label Classification問題?\n",
    "\n",
    "基本上, 我們會使用3種方法:\n",
    "\n",
    "- Problem Transformation (問題轉型)\n",
    "- Adapted Algorithm (適應演算法)\n",
    "- Ensemble approaches (合作方法)"
   ]
  },
  {
   "cell_type": "markdown",
   "metadata": {},
   "source": [
    "### Problem Transformation - 問題轉型\n",
    "\n",
    "在此方法中, 我們會嘗試將multi-label(多類型)問題轉變成 single-label(單類型)問題.\n",
    "\n",
    "我們會以以下3種方式處理:\n",
    "\n",
    "- Binary Relevance (二進制相關性)\n",
    "- Classifier Chains (分類鏈)\n",
    "- Label Powerset (標籤功能)"
   ]
  },
  {
   "cell_type": "markdown",
   "metadata": {},
   "source": [
    "#### Binary Relevance (二進制相關性)\n",
    "\n",
    "這是最簡單的方法: 把每一個類型當成是單一分類問題.\n",
    "\n",
    "比如, 以下面的圖片作例子.  我們擁有以下的資料, X是其中一個屬性, 而Y是目標變數(Target Variable)\n",
    "\n",
    "![](Screen-Shot-2017-08-21-at-1.42.27-AM.png)\n",
    "\n",
    "使用Binary Relevance, 我們把資料集分成4個獨立的Single Class Classification (單類型分類)問題, 如下圖:\n",
    "\n",
    "![](Screen-Shot-2017-08-21-at-1.46.00-AM.png)\n",
    "\n",
    "我們毋須手動去做, scikit-multilearn提供了基於Python的使用方法.  先看看如何把它使用到我們剛才的隨機資料:"
   ]
  },
  {
   "cell_type": "code",
   "execution_count": 4,
   "metadata": {
    "collapsed": true
   },
   "outputs": [],
   "source": [
    "# 使用二進制相關性\n",
    "from skmultilearn.problem_transform import BinaryRelevance\n",
    "from sklearn.naive_bayes import GaussianNB\n",
    "\n",
    "from sklearn.model_selection import train_test_split\n",
    "\n",
    "# 使用BinaryRelevance以及Gaussian Naive Bayes 分類器\n",
    "classifier = BinaryRelevance(GaussianNB())\n",
    "\n",
    "X_train, X_test, y_train, y_test = train_test_split(X, y, test_size=0.25)\n",
    "\n",
    "# Train\n",
    "classifier.fit(X_train, y_train)\n",
    "\n",
    "# Predict\n",
    "predictions = classifier.predict(X_test)"
   ]
  },
  {
   "cell_type": "markdown",
   "metadata": {
    "collapsed": true
   },
   "source": [
    "注意: 在這裏我們使用GaussianNB, 但你可以使用其他任何的分類演算法(classification algorithm).\n",
    "\n",
    "由於我們用此方式去分析問題, 我們已經不能用一般的方法去計算整體預測的準確率.  為此我們將使用**accuracy score**.  此function計算各部份資料的準確率.  \n",
    "\n",
    "現在我們使用此方法計算準確率:"
   ]
  },
  {
   "cell_type": "code",
   "execution_count": 5,
   "metadata": {},
   "outputs": [
    {
     "data": {
      "text/plain": [
       "0.76000000000000001"
      ]
     },
     "execution_count": 5,
     "metadata": {},
     "output_type": "execute_result"
    }
   ],
   "source": [
    "from sklearn.metrics import accuracy_score\n",
    "accuracy_score(y_test, predictions)"
   ]
  },
  {
   "cell_type": "markdown",
   "metadata": {},
   "source": [
    "所以我們有76%的準確率.  看來還可以.  現在看看利用此方法有什麼好及壞處.\n",
    "\n",
    "這是最簡單, 也是最有效率的方法.  唯此法最壞的地方在於它沒有考慮各類型(labels)的相互關係.  因為我們把各類型(labels)都看成是各自獨立的存在."
   ]
  },
  {
   "cell_type": "markdown",
   "metadata": {},
   "source": [
    "####  Classifier Chains (分類鏈)\n",
    "\n",
    "在此, 我們先以1個classifier(分類器)訓練所有輸入資料, 然後基於第1個classifier返回的結果, 使用下一個classifier進行第2次分類.\n",
    "\n",
    "以下使用一個例子作說明: 假設有以下資料, X為基本資料, Y為類別:\n",
    "\n",
    "![](cc1.png)\n",
    "\n",
    "使用Classifier Chains, 我們把問題分析成4個不同的Single Class Classification問題.  如下圖.  黃色的部份為輸入(input)而白色則是目標變數(target variable).\n",
    "\n",
    "![](cc2.png)\n",
    "\n",
    "這與Binary Relevance十份相似.  差別在於我們以一條鏈的方式保留label(類型)之間的關聯.  如下面所示:\n",
    "\n",
    "**譯者按:**:如果你想搜尋有關ClassifierChain()的內容, 請使用[scikit-multilearn - ClassifierChain()](http://scikit.ml/api/api/skmultilearn.problem_transform.html#skmultilearn.problem_transform.ClassifierChain)的說明文件, **不要**與[sklearn - ClassifierChain()](http://scikit-learn.org/stable/modules/generated/sklearn.multioutput.ClassifierChain.html)攪混.  那是不同的東西.\n",
    "\n",
    "**Attention:**  If you are reading this right now and searching on Google by just \"ClassifierChain()\", you may see [sklearn - ClassifierChain()](http://scikit-learn.org/stable/modules/generated/sklearn.multioutput.ClassifierChain.html), which is **different** from [scikit-multilearn - ClassifierChain()](http://scikit.ml/api/api/skmultilearn.problem_transform.html#skmultilearn.problem_transform.ClassifierChain)."
   ]
  },
  {
   "cell_type": "code",
   "execution_count": 9,
   "metadata": {},
   "outputs": [
    {
     "data": {
      "text/plain": [
       "0.23999999999999999"
      ]
     },
     "execution_count": 9,
     "metadata": {},
     "output_type": "execute_result"
    }
   ],
   "source": [
    "# 使用 Classifier Chains - 分類鏈\n",
    "from skmultilearn.problem_transform import ClassifierChain\n",
    "from sklearn.naive_bayes import GaussianNB\n",
    "\n",
    "# initialize classifier chains multi-label classifier\n",
    "# with a gaussian naive bayes base classifier\n",
    "classifier = ClassifierChain(GaussianNB())\n",
    "\n",
    "# train\n",
    "classifier.fit(X_train, y_train)\n",
    "\n",
    "# predict\n",
    "predictions = classifier.predict(X_test)\n",
    "\n",
    "accuracy_score(y_test,predictions)"
   ]
  },
  {
   "cell_type": "markdown",
   "metadata": {},
   "source": [
    "我們可以看到, 使用此方法的準確率為23.99%, 比之前的BinaryRelevance差很多.  這可能是因為類型之間(label correlation)沒有關連.  因為資料是隨機產生出來的."
   ]
  },
  {
   "cell_type": "markdown",
   "metadata": {},
   "source": [
    "#### Label Powerset (標籤功能)\n",
    "\n",
    "基於這種方法, 我們把問題轉成一般的multi-class(多類型)問題, 使用multi-class分類器, 針對各自獨立的類型(label)進行訓練.\n",
    "\n",
    "比如說:\n",
    "\n",
    "![](lp1.png)\n",
    "\n",
    "我們可以發現: X1與X4擁有相同的類型(label), X3則與X6有相同的類型(label).  那我們就可以把問題轉變成一個multi-class(多類型)的問題, 如下:\n",
    "\n",
    "![](lp2.png)\n",
    "\n",
    "所以, Label Powerset會自行為每一個類型(label)的組合, 產生一個新的, 獨立的\"類型\".\n",
    "\n",
    "以下是如何實行:\n",
    "\n",
    "**譯者按: ** 若你想看此function的說明文件, 請看此: [Scikit Multilearn - LabelPowerset()](http://scikit.ml/api/api/skmultilearn.problem_transform.html#skmultilearn.problem_transform.lp.LabelPowerset)"
   ]
  },
  {
   "cell_type": "code",
   "execution_count": 10,
   "metadata": {},
   "outputs": [
    {
     "data": {
      "text/plain": [
       "0.76000000000000001"
      ]
     },
     "execution_count": 10,
     "metadata": {},
     "output_type": "execute_result"
    }
   ],
   "source": [
    "# using Label Powerset\n",
    "from skmultilearn.problem_transform import LabelPowerset\n",
    "from sklearn.naive_bayes import GaussianNB\n",
    "\n",
    "# initialize Label Powerset multi-label classifier\n",
    "# with a gaussian naive bayes base classifier\n",
    "classifier = LabelPowerset(GaussianNB())\n",
    "\n",
    "# train\n",
    "classifier.fit(X_train, y_train)\n",
    "\n",
    "# predict\n",
    "predictions = classifier.predict(X_test)\n",
    "\n",
    "accuracy_score(y_test,predictions)"
   ]
  },
  {
   "cell_type": "markdown",
   "metadata": {},
   "source": [
    "這個方法無疑給予我們一個最好的準確率 (譯者按: 在原文中此為最高的準確率).  唯一的壞處是, 如果訓練用的資料增加, 新產生的\"類型\"亦同時增加, 從而令模型(model)更複雜, 結果反令準確率降低.  "
   ]
  },
  {
   "cell_type": "markdown",
   "metadata": {},
   "source": [
    "###  Adapted Algorithm (適應演算法)\n",
    "\n",
    "Adapted Algorithm (適應演算法), 就如其名般, 以演算法本身去\"適應\"問題, 直接執行Multi-label calssification(多類型分類), 而不是改變問題本身.\n",
    "\n",
    "比如, Multi-Label 的 kNN 可以使用 MLkNN.  如下:\n",
    "\n",
    "**譯者按: ** kNN是一種用於單一分類的演算法.  詳情請看: [Introduction to k-nearest neighbors : Simplified (英文)](https://www.analyticsvidhya.com/blog/2014/10/introduction-k-neighbours-algorithm-clustering/)"
   ]
  },
  {
   "cell_type": "code",
   "execution_count": 11,
   "metadata": {},
   "outputs": [
    {
     "data": {
      "text/plain": [
       "0.80000000000000004"
      ]
     },
     "execution_count": 11,
     "metadata": {},
     "output_type": "execute_result"
    }
   ],
   "source": [
    "from skmultilearn.adapt import MLkNN\n",
    "\n",
    "classifier = MLkNN(k=20)\n",
    "\n",
    "# train\n",
    "classifier.fit(X_train, y_train)\n",
    "\n",
    "# predict\n",
    "predictions = classifier.predict(X_test)\n",
    "\n",
    "accuracy_score(y_test,predictions)"
   ]
  },
  {
   "cell_type": "markdown",
   "metadata": {},
   "source": [
    "好.  我們在測試用的資料達到了80%的準確率!\n",
    "\n",
    "Sci-kit learn提供了內建的multi-label classification功能(比如Random Forest / Ridge regression).    你可以直接使用它們去預測輸出.\n",
    "\n",
    "你可以看 [multi-learn函式庫(英文)](http://scikit.ml/api/api/skmultilearn.adapt.html#module-skmultilearn.adapt) 了解多一些關於適應演算法的內容."
   ]
  },
  {
   "cell_type": "markdown",
   "metadata": {},
   "source": [
    "### Ensemble approaches (合作方法)\n",
    "\n",
    "此方法通常都能產生最好的準確率.  Scikit-Multilearn函式庫提供不同的ensembling classification(合作分類)方法, 通常可獲得最好的結果.\n",
    "\n",
    "**譯者按:** 原文並沒有提供此方法的實作方式.  唯當我測試時(使用scikit-multilearn version 0.05), 發覺fixed.py有一個格式問題.  但解決後仍無法實作.  若有朋友可以做到, 煩請告知.  謝謝."
   ]
  },
  {
   "cell_type": "markdown",
   "metadata": {},
   "source": [
    "##  實例探究\n",
    "\n",
    "Multi-label classification其實在現實世界十分常見.  就讓我們看看這是如何使用的"
   ]
  },
  {
   "cell_type": "markdown",
   "metadata": {},
   "source": [
    "### Audio Categorization - 音源分類\n",
    "\n",
    "我們已經看到一些歌曲是如何被分成不同性質/流派的(原文為: genres).  我們亦可以把它分成不同的感情(原文為:emotion), 比如: 抒情, 憂鬱等.\n",
    "\n",
    "[連結 (PDF)](http://lpis.csd.auth.gr/publications/tsoumakas-ismir08.pdf)"
   ]
  },
  {
   "cell_type": "markdown",
   "metadata": {},
   "source": [
    "### Image Categorization - 影像分類\n",
    "\n",
    "Multi-label classification 用於影像亦十分普遍.  一幅影像可以被分類成不同的物件, 人物或概念.\n",
    "\n",
    "![](ic.png)"
   ]
  },
  {
   "cell_type": "markdown",
   "metadata": {},
   "source": [
    "### Bioinformatics - 生物信息學\n",
    "\n",
    "Multi-Label Classification 亦被用於生物信息.  比如在yeast資料集裏面分類不同的基因(原文為: genes).\n",
    "\n",
    "這亦可以用來預測不同蛋白質的功能.  你可以閱讀[此文件](https://cs.gmu.edu/~carlotta/publications/TCBB13.pdf)獲得更多資料."
   ]
  },
  {
   "cell_type": "markdown",
   "metadata": {},
   "source": [
    "###  Text Categorization - 文字分類\n",
    "\n",
    "你或者每天都看Google新聞.  而Google新聞所做的其實就是根據新聞分配一個或多個的標籤(label).  以下面的圖片為例:\n",
    "\n",
    "![](4-tc.png)\n",
    "\n",
    "同樣的新聞亦被分類為\"印度\", \"科技\", \"最新\"等等.  因為一篇新聞被分類成不同的標籤(label), 所以是multi-label classification問題.\n",
    "\n",
    "當然還有其他的地方使用此技術."
   ]
  },
  {
   "cell_type": "markdown",
   "metadata": {},
   "source": [
    "## 結語\n",
    "\n",
    "在這一篇文章中:\n",
    "\n",
    "- 我介紹了什麼是Multi-label calssification問題, 以及\n",
    "- 如何解決此類問題, 和\n",
    "- 實例使用\n",
    "\n",
    "希望可以幫到你."
   ]
  }
 ],
 "metadata": {
  "kernelspec": {
   "display_name": "Python 3",
   "language": "python",
   "name": "python3"
  },
  "language_info": {
   "codemirror_mode": {
    "name": "ipython",
    "version": 3
   },
   "file_extension": ".py",
   "mimetype": "text/x-python",
   "name": "python",
   "nbconvert_exporter": "python",
   "pygments_lexer": "ipython3",
   "version": "3.6.2"
  }
 },
 "nbformat": 4,
 "nbformat_minor": 2
}
